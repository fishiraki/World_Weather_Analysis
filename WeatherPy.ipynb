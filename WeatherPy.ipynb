{
 "cells": [
  {
   "cell_type": "code",
   "execution_count": 1,
   "metadata": {},
   "outputs": [],
   "source": [
    "# Import the random module.\n",
    "import random"
   ]
  },
  {
   "cell_type": "code",
   "execution_count": 2,
   "metadata": {},
   "outputs": [
    {
     "data": {
      "text/plain": [
       "46"
      ]
     },
     "execution_count": 2,
     "metadata": {},
     "output_type": "execute_result"
    }
   ],
   "source": [
    "random.randint(-90, 90)"
   ]
  },
  {
   "cell_type": "code",
   "execution_count": 3,
   "metadata": {},
   "outputs": [
    {
     "data": {
      "text/plain": [
       "0.8968441671194237"
      ]
     },
     "execution_count": 3,
     "metadata": {},
     "output_type": "execute_result"
    }
   ],
   "source": [
    "random.random()"
   ]
  },
  {
   "cell_type": "code",
   "execution_count": 4,
   "metadata": {},
   "outputs": [
    {
     "data": {
      "text/plain": [
       "[33.7598100470159,\n",
       " 82.8283892928515,\n",
       " 39.601806183867765,\n",
       " 38.9384155334934,\n",
       " -54.39094891892779,\n",
       " 78.94416067132653,\n",
       " 5.964735013830564,\n",
       " -46.94734923538363,\n",
       " -39.80062412660361,\n",
       " 53.57046254842455]"
      ]
     },
     "execution_count": 4,
     "metadata": {},
     "output_type": "execute_result"
    }
   ],
   "source": [
    "x = 1\n",
    "latitudes = []\n",
    "while x < 11:\n",
    "    random_lat = random.randint(-90, 89) + random.random()\n",
    "    latitudes.append(random_lat)\n",
    "    x += 1\n",
    "    \n",
    "latitudes"
   ]
  },
  {
   "cell_type": "code",
   "execution_count": 5,
   "metadata": {},
   "outputs": [
    {
     "data": {
      "text/plain": [
       "73"
      ]
     },
     "execution_count": 5,
     "metadata": {},
     "output_type": "execute_result"
    }
   ],
   "source": [
    "random.randrange(-90, 90, step=1)"
   ]
  },
  {
   "cell_type": "code",
   "execution_count": 6,
   "metadata": {},
   "outputs": [
    {
     "data": {
      "text/plain": [
       "-6"
      ]
     },
     "execution_count": 6,
     "metadata": {},
     "output_type": "execute_result"
    }
   ],
   "source": [
    "random.randrange(-90, 90, step=3)"
   ]
  },
  {
   "cell_type": "code",
   "execution_count": 7,
   "metadata": {},
   "outputs": [],
   "source": [
    "# Import the NumPy module.\n",
    "import numpy as np"
   ]
  },
  {
   "cell_type": "code",
   "execution_count": 8,
   "metadata": {},
   "outputs": [
    {
     "data": {
      "text/plain": [
       "-16.119514431962074"
      ]
     },
     "execution_count": 8,
     "metadata": {},
     "output_type": "execute_result"
    }
   ],
   "source": [
    "np.random.uniform(-90.000, 90.000)"
   ]
  },
  {
   "cell_type": "code",
   "execution_count": 9,
   "metadata": {},
   "outputs": [
    {
     "data": {
      "text/plain": [
       "array([ -0.59406997,   1.19829407,  58.08826067,  83.37255857,\n",
       "        48.66888292, -69.32974473,  54.09834224,  84.01487652,\n",
       "       -70.15662014, -54.17209768, -12.33472863, -74.18656741,\n",
       "        56.73443509, -69.8339141 ,  50.52883258,  60.52962939,\n",
       "       -78.76749369,  12.28424479, -12.32189524,   4.00778689,\n",
       "       -43.43347889,  18.25950784,  51.76564538, -81.72071077,\n",
       "        25.25988181,  60.23832407, -43.45698124, -56.81123622,\n",
       "       -73.17693162,  41.09824606, -19.45431237,  -1.23495543,\n",
       "       -70.77931465, -56.01593136,  34.33499012, -62.10886041,\n",
       "       -75.98168228,  32.04072488, -81.07449845, -62.81994747,\n",
       "       -41.72807762,  15.57799441,  19.11896879,  58.03632117,\n",
       "        46.9238013 , -23.99505777,  56.69716012, -11.43418818,\n",
       "        26.17507673,  27.94456237])"
      ]
     },
     "execution_count": 9,
     "metadata": {},
     "output_type": "execute_result"
    }
   ],
   "source": [
    "np.random.uniform(-90.000, 90.000, size=50)"
   ]
  },
  {
   "cell_type": "code",
   "execution_count": 10,
   "metadata": {},
   "outputs": [],
   "source": [
    "# Import timeit.\n",
    "import timeit"
   ]
  },
  {
   "cell_type": "code",
   "execution_count": 11,
   "metadata": {},
   "outputs": [
    {
     "name": "stdout",
     "output_type": "stream",
     "text": [
      "34.1 µs ± 770 ns per loop (mean ± std. dev. of 7 runs, 10000 loops each)\n"
     ]
    }
   ],
   "source": [
    "%timeit np.random.uniform(-90.000, 90.000, size=1500)"
   ]
  },
  {
   "cell_type": "code",
   "execution_count": 12,
   "metadata": {},
   "outputs": [
    {
     "name": "stdout",
     "output_type": "stream",
     "text": [
      "4.3 ms ± 644 µs per loop (mean ± std. dev. of 7 runs, 100 loops each)\n"
     ]
    }
   ],
   "source": [
    "def latitudes(size):\n",
    "    latitudes = []\n",
    "    x = 0\n",
    "    while x < (size):\n",
    "        random_lat = random.randint(-90, 90) + random.random()\n",
    "        latitudes.append(random_lat)\n",
    "        x += 1\n",
    "    return latitudes\n",
    "# Call the function with 1500.\n",
    "%timeit latitudes(1500)"
   ]
  },
  {
   "cell_type": "code",
   "execution_count": 13,
   "metadata": {},
   "outputs": [],
   "source": [
    "# Import the dependencies.\n",
    "import pandas as pd\n",
    "import matplotlib.pyplot as plt\n",
    "import numpy as np"
   ]
  },
  {
   "cell_type": "code",
   "execution_count": 14,
   "metadata": {},
   "outputs": [
    {
     "data": {
      "text/plain": [
       "<zip at 0x21778636a00>"
      ]
     },
     "execution_count": 14,
     "metadata": {},
     "output_type": "execute_result"
    }
   ],
   "source": [
    "# Create a set of random latitude and longitude combinations.\n",
    "lats = np.random.uniform(low=-90.000, high=90.000, size=1500)\n",
    "lngs = np.random.uniform(low=-180.000, high=180.000, size=1500)\n",
    "lat_lngs = zip(lats, lngs)\n",
    "lat_lngs"
   ]
  },
  {
   "cell_type": "code",
   "execution_count": 15,
   "metadata": {},
   "outputs": [],
   "source": [
    "# Add the latitudes and longitudes to a list.\n",
    "coordinates = list(lat_lngs)"
   ]
  },
  {
   "cell_type": "code",
   "execution_count": 16,
   "metadata": {},
   "outputs": [],
   "source": [
    "# Use the citipy module to determine city based on latitude and longitude.\n",
    "from citipy import citipy"
   ]
  },
  {
   "cell_type": "code",
   "execution_count": 17,
   "metadata": {},
   "outputs": [
    {
     "data": {
      "text/plain": [
       "594"
      ]
     },
     "execution_count": 17,
     "metadata": {},
     "output_type": "execute_result"
    }
   ],
   "source": [
    "# Create a list for holding the cities.\n",
    "cities = []\n",
    "# Identify the nearest city for each latitude and longitude combination.\n",
    "for coordinate in coordinates:\n",
    "    city = citipy.nearest_city(coordinate[0], coordinate[1]).city_name\n",
    "\n",
    "    # If the city is unique, then we will add it to the cities list.\n",
    "    if city not in cities:\n",
    "        cities.append(city)\n",
    "# Print the city count to confirm sufficient count.\n",
    "len(cities)"
   ]
  },
  {
   "cell_type": "code",
   "execution_count": 18,
   "metadata": {},
   "outputs": [],
   "source": [
    "# Import the datetime module from the datetime library.\n",
    "from datetime import datetime"
   ]
  },
  {
   "cell_type": "code",
   "execution_count": 19,
   "metadata": {},
   "outputs": [],
   "source": [
    "# Import the requests library.\n",
    "import requests\n",
    "\n",
    "# Import the API key.\n",
    "from config import weather_api_key"
   ]
  },
  {
   "cell_type": "code",
   "execution_count": 20,
   "metadata": {},
   "outputs": [
    {
     "name": "stdout",
     "output_type": "stream",
     "text": [
      "http://api.openweathermap.org/data/2.5/weather?units=Imperial&APPID=93878aa0148fc41ed51b4907a22a3127\n"
     ]
    }
   ],
   "source": [
    "# Starting URL for Weather Map API Call.\n",
    "url = \"http://api.openweathermap.org/data/2.5/weather?units=Imperial&APPID=\" + weather_api_key\n",
    "print(url)"
   ]
  },
  {
   "cell_type": "code",
   "execution_count": 21,
   "metadata": {},
   "outputs": [
    {
     "name": "stdout",
     "output_type": "stream",
     "text": [
      "Beginning Data Retrieval     \n",
      "-----------------------------\n"
     ]
    }
   ],
   "source": [
    "# Create an empty list to hold the weather data.\n",
    "city_data = []\n",
    "# Print the beginning of the logging.\n",
    "print(\"Beginning Data Retrieval     \")\n",
    "print(\"-----------------------------\")\n",
    "\n",
    "# Create counters.\n",
    "record_count = 1\n",
    "set_count = 1"
   ]
  },
  {
   "cell_type": "code",
   "execution_count": 22,
   "metadata": {},
   "outputs": [
    {
     "name": "stdout",
     "output_type": "stream",
     "text": [
      "Processing Record 1 of Set 1 | rikitea\n",
      "Processing Record 2 of Set 1 | ribeira grande\n",
      "Processing Record 3 of Set 1 | busselton\n",
      "Processing Record 4 of Set 1 | vestmannaeyjar\n",
      "Processing Record 5 of Set 1 | kannur\n",
      "Processing Record 6 of Set 1 | husavik\n",
      "Processing Record 7 of Set 1 | mataura\n",
      "Processing Record 8 of Set 1 | darab\n",
      "Processing Record 9 of Set 1 | albany\n",
      "Processing Record 10 of Set 1 | barentsburg\n",
      "City not found. Skipping...\n",
      "Processing Record 11 of Set 1 | luwuk\n",
      "Processing Record 12 of Set 1 | qaanaaq\n",
      "Processing Record 13 of Set 1 | geraldton\n",
      "Processing Record 14 of Set 1 | price\n",
      "Processing Record 15 of Set 1 | cape town\n",
      "Processing Record 16 of Set 1 | arraial do cabo\n",
      "Processing Record 17 of Set 1 | los llanos de aridane\n",
      "Processing Record 18 of Set 1 | atuona\n",
      "Processing Record 19 of Set 1 | egvekinot\n",
      "Processing Record 20 of Set 1 | avarua\n",
      "Processing Record 21 of Set 1 | pitimbu\n",
      "Processing Record 22 of Set 1 | georgetown\n",
      "Processing Record 23 of Set 1 | khatanga\n",
      "Processing Record 24 of Set 1 | rorvik\n",
      "Processing Record 25 of Set 1 | chuy\n",
      "Processing Record 26 of Set 1 | ushuaia\n",
      "Processing Record 27 of Set 1 | bredasdorp\n",
      "Processing Record 28 of Set 1 | illoqqortoormiut\n",
      "City not found. Skipping...\n",
      "Processing Record 29 of Set 1 | norman wells\n",
      "Processing Record 30 of Set 1 | richards bay\n",
      "Processing Record 31 of Set 1 | iqaluit\n",
      "Processing Record 32 of Set 1 | leningradskiy\n",
      "Processing Record 33 of Set 1 | daru\n",
      "Processing Record 34 of Set 1 | port lincoln\n",
      "Processing Record 35 of Set 1 | mahebourg\n",
      "Processing Record 36 of Set 1 | barrow\n",
      "Processing Record 37 of Set 1 | sioux lookout\n",
      "Processing Record 38 of Set 1 | hithadhoo\n",
      "Processing Record 39 of Set 1 | kiama\n",
      "Processing Record 40 of Set 1 | punta arenas\n",
      "Processing Record 41 of Set 1 | jamestown\n",
      "Processing Record 42 of Set 1 | lebu\n",
      "Processing Record 43 of Set 1 | port alfred\n",
      "Processing Record 44 of Set 1 | trincomalee\n",
      "Processing Record 45 of Set 1 | strizhi\n",
      "Processing Record 46 of Set 1 | tura\n",
      "Processing Record 47 of Set 1 | hongjiang\n",
      "Processing Record 48 of Set 1 | bluff\n",
      "Processing Record 49 of Set 1 | nanortalik\n",
      "Processing Record 50 of Set 1 | srednekolymsk\n",
      "Processing Record 1 of Set 2 | san carlos de bariloche\n",
      "Processing Record 2 of Set 2 | santa rosa\n",
      "Processing Record 3 of Set 2 | port hardy\n",
      "Processing Record 4 of Set 2 | waingapu\n",
      "Processing Record 5 of Set 2 | kapaa\n",
      "Processing Record 6 of Set 2 | hilo\n",
      "Processing Record 7 of Set 2 | yellowknife\n",
      "Processing Record 8 of Set 2 | sitka\n",
      "Processing Record 9 of Set 2 | manaus\n",
      "Processing Record 10 of Set 2 | tuktoyaktuk\n",
      "Processing Record 11 of Set 2 | lavrentiya\n",
      "Processing Record 12 of Set 2 | taybad\n",
      "Processing Record 13 of Set 2 | thompson\n",
      "Processing Record 14 of Set 2 | tasiilaq\n",
      "Processing Record 15 of Set 2 | nelson bay\n",
      "Processing Record 16 of Set 2 | enterprise\n",
      "Processing Record 17 of Set 2 | redmond\n",
      "Processing Record 18 of Set 2 | taolanaro\n",
      "City not found. Skipping...\n",
      "Processing Record 19 of Set 2 | maniitsoq\n",
      "Processing Record 20 of Set 2 | pevek\n",
      "Processing Record 21 of Set 2 | saint george\n",
      "Processing Record 22 of Set 2 | songjianghe\n",
      "Processing Record 23 of Set 2 | mount isa\n",
      "Processing Record 24 of Set 2 | iberia\n",
      "Processing Record 25 of Set 2 | bambous virieux\n",
      "Processing Record 26 of Set 2 | puerto ayora\n",
      "Processing Record 27 of Set 2 | nemuro\n",
      "Processing Record 28 of Set 2 | kaitangata\n",
      "Processing Record 29 of Set 2 | belushya guba\n",
      "City not found. Skipping...\n",
      "Processing Record 30 of Set 2 | dunedin\n",
      "Processing Record 31 of Set 2 | castro\n",
      "Processing Record 32 of Set 2 | kodiak\n",
      "Processing Record 33 of Set 2 | comodoro rivadavia\n",
      "Processing Record 34 of Set 2 | manta\n",
      "Processing Record 35 of Set 2 | hasaki\n",
      "Processing Record 36 of Set 2 | sterling\n",
      "Processing Record 37 of Set 2 | cidreira\n",
      "Processing Record 38 of Set 2 | ponta do sol\n",
      "Processing Record 39 of Set 2 | corinto\n",
      "Processing Record 40 of Set 2 | vieques\n",
      "Processing Record 41 of Set 2 | kota bahru\n",
      "Processing Record 42 of Set 2 | ituni\n",
      "City not found. Skipping...\n",
      "Processing Record 43 of Set 2 | mar del plata\n",
      "Processing Record 44 of Set 2 | meulaboh\n",
      "Processing Record 45 of Set 2 | sakakah\n",
      "Processing Record 46 of Set 2 | bengkulu\n",
      "Processing Record 47 of Set 2 | butaritari\n",
      "Processing Record 48 of Set 2 | saldanha\n",
      "Processing Record 49 of Set 2 | airai\n",
      "Processing Record 50 of Set 2 | bonavista\n",
      "Processing Record 1 of Set 3 | sao joao da barra\n",
      "Processing Record 2 of Set 3 | mys shmidta\n",
      "City not found. Skipping...\n",
      "Processing Record 3 of Set 3 | nizhneyansk\n",
      "City not found. Skipping...\n",
      "Processing Record 4 of Set 3 | fairbanks\n",
      "Processing Record 5 of Set 3 | alice springs\n",
      "Processing Record 6 of Set 3 | kismayo\n",
      "Processing Record 7 of Set 3 | lakatoro\n",
      "Processing Record 8 of Set 3 | san cristobal\n",
      "Processing Record 9 of Set 3 | trinidad\n",
      "Processing Record 10 of Set 3 | namatanai\n",
      "Processing Record 11 of Set 3 | iwanai\n",
      "Processing Record 12 of Set 3 | te anau\n",
      "Processing Record 13 of Set 3 | sentyabrskiy\n",
      "City not found. Skipping...\n",
      "Processing Record 14 of Set 3 | kavaratti\n",
      "Processing Record 15 of Set 3 | tangjiazhuang\n",
      "Processing Record 16 of Set 3 | byron bay\n",
      "Processing Record 17 of Set 3 | alofi\n",
      "Processing Record 18 of Set 3 | attawapiskat\n",
      "City not found. Skipping...\n",
      "Processing Record 19 of Set 3 | odweyne\n",
      "Processing Record 20 of Set 3 | haverfordwest\n",
      "Processing Record 21 of Set 3 | malwan\n",
      "City not found. Skipping...\n",
      "Processing Record 22 of Set 3 | maldonado\n",
      "Processing Record 23 of Set 3 | novyy urgal\n",
      "Processing Record 24 of Set 3 | neuquen\n",
      "Processing Record 25 of Set 3 | vaini\n",
      "Processing Record 26 of Set 3 | east london\n",
      "Processing Record 27 of Set 3 | kisangani\n",
      "Processing Record 28 of Set 3 | havoysund\n",
      "Processing Record 29 of Set 3 | hantsport\n",
      "Processing Record 30 of Set 3 | dikson\n",
      "Processing Record 31 of Set 3 | sao filipe\n",
      "Processing Record 32 of Set 3 | poum\n",
      "Processing Record 33 of Set 3 | molina\n",
      "Processing Record 34 of Set 3 | coquimbo\n",
      "Processing Record 35 of Set 3 | fortuna\n",
      "Processing Record 36 of Set 3 | sorvag\n",
      "City not found. Skipping...\n",
      "Processing Record 37 of Set 3 | grand river south east\n",
      "City not found. Skipping...\n",
      "Processing Record 38 of Set 3 | galveston\n",
      "Processing Record 39 of Set 3 | krasnyy chikoy\n",
      "Processing Record 40 of Set 3 | hobart\n",
      "Processing Record 41 of Set 3 | port elizabeth\n",
      "Processing Record 42 of Set 3 | hermanus\n",
      "Processing Record 43 of Set 3 | uyemskiy\n",
      "Processing Record 44 of Set 3 | henties bay\n",
      "Processing Record 45 of Set 3 | mogzon\n",
      "Processing Record 46 of Set 3 | leshukonskoye\n",
      "Processing Record 47 of Set 3 | lashio\n",
      "Processing Record 48 of Set 3 | kamenka\n",
      "Processing Record 49 of Set 3 | severnoye\n",
      "Processing Record 50 of Set 3 | anadyr\n",
      "Processing Record 1 of Set 4 | tateyama\n",
      "Processing Record 2 of Set 4 | marsh harbour\n",
      "Processing Record 3 of Set 4 | panalingaan\n",
      "Processing Record 4 of Set 4 | necochea\n",
      "Processing Record 5 of Set 4 | leninsk\n",
      "Processing Record 6 of Set 4 | provideniya\n",
      "Processing Record 7 of Set 4 | adelaide\n",
      "Processing Record 8 of Set 4 | cayenne\n",
      "Processing Record 9 of Set 4 | dingle\n",
      "Processing Record 10 of Set 4 | dudinka\n",
      "Processing Record 11 of Set 4 | cherskiy\n",
      "Processing Record 12 of Set 4 | kindu\n",
      "Processing Record 13 of Set 4 | gornopravdinsk\n",
      "Processing Record 14 of Set 4 | lewiston\n",
      "Processing Record 15 of Set 4 | meyungs\n",
      "City not found. Skipping...\n",
      "Processing Record 16 of Set 4 | khandbari\n",
      "Processing Record 17 of Set 4 | cuamba\n",
      "Processing Record 18 of Set 4 | ipoti\n",
      "Processing Record 19 of Set 4 | banda aceh\n",
      "Processing Record 20 of Set 4 | upernavik\n",
      "Processing Record 21 of Set 4 | leshan\n",
      "Processing Record 22 of Set 4 | nioro\n",
      "Processing Record 23 of Set 4 | yarada\n",
      "Processing Record 24 of Set 4 | nikolskoye\n",
      "Processing Record 25 of Set 4 | svetlyy\n",
      "Processing Record 26 of Set 4 | ancud\n",
      "Processing Record 27 of Set 4 | poya\n",
      "Processing Record 28 of Set 4 | sorland\n",
      "Processing Record 29 of Set 4 | qaqortoq\n",
      "Processing Record 30 of Set 4 | amderma\n",
      "City not found. Skipping...\n",
      "Processing Record 31 of Set 4 | asyut\n",
      "Processing Record 32 of Set 4 | galiakot\n",
      "Processing Record 33 of Set 4 | puerto maldonado\n",
      "Processing Record 34 of Set 4 | gat\n",
      "Processing Record 35 of Set 4 | evensk\n",
      "Processing Record 36 of Set 4 | port macquarie\n",
      "Processing Record 37 of Set 4 | marcona\n",
      "City not found. Skipping...\n",
      "Processing Record 38 of Set 4 | horsham\n",
      "Processing Record 39 of Set 4 | caraz\n"
     ]
    },
    {
     "name": "stdout",
     "output_type": "stream",
     "text": [
      "Processing Record 40 of Set 4 | korla\n",
      "Processing Record 41 of Set 4 | nikki\n",
      "Processing Record 42 of Set 4 | savyntsi\n",
      "Processing Record 43 of Set 4 | cabo san lucas\n",
      "Processing Record 44 of Set 4 | bukama\n",
      "Processing Record 45 of Set 4 | the pas\n",
      "Processing Record 46 of Set 4 | guanay\n",
      "Processing Record 47 of Set 4 | ostrovnoy\n",
      "Processing Record 48 of Set 4 | aklavik\n",
      "Processing Record 49 of Set 4 | saint-francois\n",
      "Processing Record 50 of Set 4 | asau\n",
      "Processing Record 1 of Set 5 | tutoia\n",
      "Processing Record 2 of Set 5 | luderitz\n",
      "Processing Record 3 of Set 5 | bad freienwalde\n",
      "Processing Record 4 of Set 5 | tautira\n",
      "Processing Record 5 of Set 5 | vaitupu\n",
      "City not found. Skipping...\n",
      "Processing Record 6 of Set 5 | severo-kurilsk\n",
      "Processing Record 7 of Set 5 | pacific grove\n",
      "Processing Record 8 of Set 5 | nome\n",
      "Processing Record 9 of Set 5 | chara\n",
      "Processing Record 10 of Set 5 | dunnville\n",
      "Processing Record 11 of Set 5 | ahipara\n",
      "Processing Record 12 of Set 5 | vreed en hoop\n",
      "City not found. Skipping...\n",
      "Processing Record 13 of Set 5 | hendek\n",
      "Processing Record 14 of Set 5 | tubruq\n",
      "City not found. Skipping...\n",
      "Processing Record 15 of Set 5 | wanning\n",
      "Processing Record 16 of Set 5 | gardan diwal\n",
      "City not found. Skipping...\n",
      "Processing Record 17 of Set 5 | deputatskiy\n",
      "Processing Record 18 of Set 5 | rawah\n",
      "Processing Record 19 of Set 5 | chokurdakh\n",
      "Processing Record 20 of Set 5 | hohhot\n",
      "Processing Record 21 of Set 5 | kruisfontein\n",
      "Processing Record 22 of Set 5 | diu\n",
      "Processing Record 23 of Set 5 | itarare\n",
      "Processing Record 24 of Set 5 | thano bula khan\n",
      "City not found. Skipping...\n",
      "Processing Record 25 of Set 5 | demba\n",
      "Processing Record 26 of Set 5 | durban\n",
      "Processing Record 27 of Set 5 | kidal\n",
      "Processing Record 28 of Set 5 | acapulco\n",
      "Processing Record 29 of Set 5 | bell ville\n",
      "Processing Record 30 of Set 5 | baykit\n",
      "Processing Record 31 of Set 5 | portales\n",
      "Processing Record 32 of Set 5 | torbay\n",
      "Processing Record 33 of Set 5 | bud\n",
      "Processing Record 34 of Set 5 | mount gambier\n",
      "Processing Record 35 of Set 5 | caravelas\n",
      "Processing Record 36 of Set 5 | itanhaem\n",
      "Processing Record 37 of Set 5 | chumikan\n",
      "Processing Record 38 of Set 5 | guerrero negro\n",
      "Processing Record 39 of Set 5 | asfi\n",
      "Processing Record 40 of Set 5 | new norfolk\n",
      "Processing Record 41 of Set 5 | carballo\n",
      "Processing Record 42 of Set 5 | bethel\n",
      "Processing Record 43 of Set 5 | praia da vitoria\n",
      "Processing Record 44 of Set 5 | iquique\n",
      "Processing Record 45 of Set 5 | challapata\n",
      "Processing Record 46 of Set 5 | clyde river\n",
      "Processing Record 47 of Set 5 | marsa matruh\n",
      "Processing Record 48 of Set 5 | ottumwa\n",
      "Processing Record 49 of Set 5 | palmeira\n",
      "Processing Record 50 of Set 5 | port blair\n",
      "Processing Record 1 of Set 6 | dawei\n",
      "Processing Record 2 of Set 6 | maxixe\n",
      "Processing Record 3 of Set 6 | itagui\n",
      "Processing Record 4 of Set 6 | kavieng\n",
      "Processing Record 5 of Set 6 | longyearbyen\n",
      "Processing Record 6 of Set 6 | alyangula\n",
      "Processing Record 7 of Set 6 | dubbo\n",
      "Processing Record 8 of Set 6 | nyurba\n",
      "Processing Record 9 of Set 6 | salvador\n",
      "Processing Record 10 of Set 6 | kamiiso\n",
      "Processing Record 11 of Set 6 | mujiayingzi\n",
      "Processing Record 12 of Set 6 | benidorm\n",
      "Processing Record 13 of Set 6 | moranbah\n",
      "Processing Record 14 of Set 6 | castlebar\n",
      "Processing Record 15 of Set 6 | acarau\n",
      "Processing Record 16 of Set 6 | tsihombe\n",
      "City not found. Skipping...\n",
      "Processing Record 17 of Set 6 | kitzbuhel\n",
      "Processing Record 18 of Set 6 | pinheiro machado\n",
      "Processing Record 19 of Set 6 | khromtau\n",
      "Processing Record 20 of Set 6 | saint-joseph\n",
      "Processing Record 21 of Set 6 | dolgorukovo\n",
      "Processing Record 22 of Set 6 | tuatapere\n",
      "Processing Record 23 of Set 6 | ust-bolsheretsk\n",
      "City not found. Skipping...\n",
      "Processing Record 24 of Set 6 | san lorenzo\n",
      "Processing Record 25 of Set 6 | susanville\n",
      "Processing Record 26 of Set 6 | adrar\n",
      "Processing Record 27 of Set 6 | kulhudhuffushi\n",
      "Processing Record 28 of Set 6 | chake chake\n",
      "Processing Record 29 of Set 6 | murdochville\n",
      "Processing Record 30 of Set 6 | souillac\n",
      "Processing Record 31 of Set 6 | turukhansk\n",
      "Processing Record 32 of Set 6 | laguna\n",
      "Processing Record 33 of Set 6 | rawson\n",
      "Processing Record 34 of Set 6 | banes\n",
      "Processing Record 35 of Set 6 | narsaq\n",
      "Processing Record 36 of Set 6 | touros\n",
      "Processing Record 37 of Set 6 | bronnoysund\n",
      "Processing Record 38 of Set 6 | naftah\n",
      "City not found. Skipping...\n",
      "Processing Record 39 of Set 6 | kahului\n",
      "Processing Record 40 of Set 6 | chapais\n",
      "Processing Record 41 of Set 6 | soyo\n",
      "Processing Record 42 of Set 6 | punahana\n",
      "Processing Record 43 of Set 6 | hofn\n",
      "Processing Record 44 of Set 6 | ulladulla\n",
      "Processing Record 45 of Set 6 | lasa\n",
      "Processing Record 46 of Set 6 | klaksvik\n",
      "Processing Record 47 of Set 6 | ilek\n",
      "Processing Record 48 of Set 6 | kaeo\n",
      "Processing Record 49 of Set 6 | rungata\n",
      "City not found. Skipping...\n",
      "Processing Record 50 of Set 6 | balikpapan\n",
      "Processing Record 1 of Set 7 | zlitan\n",
      "Processing Record 2 of Set 7 | formosa\n",
      "Processing Record 3 of Set 7 | esperance\n",
      "Processing Record 4 of Set 7 | halalo\n",
      "City not found. Skipping...\n",
      "Processing Record 5 of Set 7 | taoudenni\n",
      "Processing Record 6 of Set 7 | douentza\n",
      "Processing Record 7 of Set 7 | yamada\n",
      "Processing Record 8 of Set 7 | englehart\n",
      "Processing Record 9 of Set 7 | moron\n",
      "Processing Record 10 of Set 7 | ziebice\n",
      "Processing Record 11 of Set 7 | iquitos\n",
      "Processing Record 12 of Set 7 | yerbogachen\n",
      "Processing Record 13 of Set 7 | khor\n",
      "Processing Record 14 of Set 7 | zapolyarnyy\n",
      "Processing Record 15 of Set 7 | samusu\n",
      "City not found. Skipping...\n",
      "Processing Record 16 of Set 7 | kailua\n",
      "Processing Record 17 of Set 7 | faanui\n",
      "Processing Record 18 of Set 7 | mayumba\n",
      "Processing Record 19 of Set 7 | louisbourg\n",
      "City not found. Skipping...\n",
      "Processing Record 20 of Set 7 | gamba\n",
      "Processing Record 21 of Set 7 | lagoa\n",
      "Processing Record 22 of Set 7 | northam\n",
      "Processing Record 23 of Set 7 | jackson\n",
      "Processing Record 24 of Set 7 | coahuayana\n",
      "Processing Record 25 of Set 7 | nantucket\n",
      "Processing Record 26 of Set 7 | malanje\n",
      "Processing Record 27 of Set 7 | samarina\n",
      "Processing Record 28 of Set 7 | zemio\n",
      "Processing Record 29 of Set 7 | fomboni\n",
      "Processing Record 30 of Set 7 | hambantota\n",
      "Processing Record 31 of Set 7 | omboue\n",
      "Processing Record 32 of Set 7 | fuerte\n",
      "Processing Record 33 of Set 7 | fuyu\n",
      "Processing Record 34 of Set 7 | vangaindrano\n",
      "Processing Record 35 of Set 7 | margate\n",
      "Processing Record 36 of Set 7 | irbeyskoye\n",
      "Processing Record 37 of Set 7 | baciu\n",
      "Processing Record 38 of Set 7 | san quintin\n",
      "Processing Record 39 of Set 7 | trenggalek\n",
      "Processing Record 40 of Set 7 | saint-philippe\n",
      "Processing Record 41 of Set 7 | vrangel\n",
      "Processing Record 42 of Set 7 | carnarvon\n",
      "Processing Record 43 of Set 7 | tahoua\n",
      "Processing Record 44 of Set 7 | ewa beach\n",
      "Processing Record 45 of Set 7 | walvis bay\n",
      "Processing Record 46 of Set 7 | lubliniec\n",
      "Processing Record 47 of Set 7 | stornoway\n",
      "Processing Record 48 of Set 7 | sulangan\n",
      "Processing Record 49 of Set 7 | el alto\n",
      "Processing Record 50 of Set 7 | udachnyy\n",
      "Processing Record 1 of Set 8 | pisco\n",
      "Processing Record 2 of Set 8 | denpasar\n",
      "Processing Record 3 of Set 8 | sonari\n",
      "Processing Record 4 of Set 8 | eureka\n",
      "Processing Record 5 of Set 8 | manhuacu\n",
      "Processing Record 6 of Set 8 | havre-saint-pierre\n",
      "Processing Record 7 of Set 8 | paradwip\n",
      "City not found. Skipping...\n",
      "Processing Record 8 of Set 8 | abu kamal\n",
      "Processing Record 9 of Set 8 | saleaula\n",
      "City not found. Skipping...\n",
      "Processing Record 10 of Set 8 | abnub\n",
      "Processing Record 11 of Set 8 | watertown\n",
      "Processing Record 12 of Set 8 | lufilufi\n",
      "Processing Record 13 of Set 8 | north myrtle beach\n",
      "Processing Record 14 of Set 8 | ulverstone\n",
      "Processing Record 15 of Set 8 | angoche\n",
      "Processing Record 16 of Set 8 | samdrup jongkhar\n",
      "Processing Record 17 of Set 8 | flinders\n",
      "Processing Record 18 of Set 8 | messina\n",
      "Processing Record 19 of Set 8 | najran\n",
      "Processing Record 20 of Set 8 | victoria\n",
      "Processing Record 21 of Set 8 | tizimin\n",
      "Processing Record 22 of Set 8 | takoradi\n",
      "Processing Record 23 of Set 8 | tabou\n",
      "Processing Record 24 of Set 8 | karla\n",
      "Processing Record 25 of Set 8 | grand gaube\n",
      "Processing Record 26 of Set 8 | prince rupert\n",
      "Processing Record 27 of Set 8 | cap-chat\n",
      "Processing Record 28 of Set 8 | porto novo\n",
      "Processing Record 29 of Set 8 | falealupo\n",
      "City not found. Skipping...\n",
      "Processing Record 30 of Set 8 | taksimo\n",
      "Processing Record 31 of Set 8 | saskylakh\n"
     ]
    },
    {
     "name": "stdout",
     "output_type": "stream",
     "text": [
      "Processing Record 32 of Set 8 | kuche\n",
      "City not found. Skipping...\n",
      "Processing Record 33 of Set 8 | puri\n",
      "Processing Record 34 of Set 8 | road town\n",
      "Processing Record 35 of Set 8 | grindavik\n",
      "Processing Record 36 of Set 8 | lorengau\n",
      "Processing Record 37 of Set 8 | barawe\n",
      "City not found. Skipping...\n",
      "Processing Record 38 of Set 8 | vila franca do campo\n",
      "Processing Record 39 of Set 8 | tadepallegudem\n",
      "Processing Record 40 of Set 8 | auki\n",
      "Processing Record 41 of Set 8 | san francisco\n",
      "Processing Record 42 of Set 8 | wahpeton\n",
      "Processing Record 43 of Set 8 | menongue\n",
      "Processing Record 44 of Set 8 | dongsheng\n",
      "Processing Record 45 of Set 8 | uyuni\n",
      "Processing Record 46 of Set 8 | jonkoping\n",
      "Processing Record 47 of Set 8 | verkhnyaya inta\n",
      "Processing Record 48 of Set 8 | dahra\n",
      "Processing Record 49 of Set 8 | wiarton\n",
      "Processing Record 50 of Set 8 | isangel\n",
      "Processing Record 1 of Set 9 | ambulu\n",
      "Processing Record 2 of Set 9 | vao\n",
      "Processing Record 3 of Set 9 | west bay\n",
      "Processing Record 4 of Set 9 | borba\n",
      "Processing Record 5 of Set 9 | dentsville\n",
      "Processing Record 6 of Set 9 | voitsberg\n",
      "Processing Record 7 of Set 9 | marystown\n",
      "Processing Record 8 of Set 9 | parintins\n",
      "Processing Record 9 of Set 9 | puerto escondido\n",
      "Processing Record 10 of Set 9 | port hawkesbury\n",
      "Processing Record 11 of Set 9 | bathsheba\n",
      "Processing Record 12 of Set 9 | ust-nera\n",
      "Processing Record 13 of Set 9 | teberda\n",
      "Processing Record 14 of Set 9 | puerto ayacucho\n",
      "Processing Record 15 of Set 9 | saryshagan\n",
      "City not found. Skipping...\n",
      "Processing Record 16 of Set 9 | honiara\n",
      "Processing Record 17 of Set 9 | san andres\n",
      "Processing Record 18 of Set 9 | sambava\n",
      "Processing Record 19 of Set 9 | ladario\n",
      "Processing Record 20 of Set 9 | gualeguay\n",
      "Processing Record 21 of Set 9 | dolores\n",
      "Processing Record 22 of Set 9 | avera\n",
      "Processing Record 23 of Set 9 | labuhan\n",
      "Processing Record 24 of Set 9 | semme\n",
      "Processing Record 25 of Set 9 | guia de isora\n",
      "Processing Record 26 of Set 9 | mulchen\n",
      "Processing Record 27 of Set 9 | harper\n",
      "Processing Record 28 of Set 9 | pilar\n",
      "Processing Record 29 of Set 9 | mabay\n",
      "Processing Record 30 of Set 9 | gizo\n",
      "Processing Record 31 of Set 9 | vanimo\n",
      "Processing Record 32 of Set 9 | taunggyi\n",
      "Processing Record 33 of Set 9 | valday\n",
      "Processing Record 34 of Set 9 | bushehr\n",
      "Processing Record 35 of Set 9 | pundaguitan\n",
      "Processing Record 36 of Set 9 | plettenberg bay\n",
      "Processing Record 37 of Set 9 | coruche\n",
      "Processing Record 38 of Set 9 | belle fourche\n",
      "Processing Record 39 of Set 9 | bluefields\n",
      "Processing Record 40 of Set 9 | yabelo\n",
      "Processing Record 41 of Set 9 | grimari\n",
      "City not found. Skipping...\n",
      "Processing Record 42 of Set 9 | berlevag\n",
      "Processing Record 43 of Set 9 | kharp\n",
      "Processing Record 44 of Set 9 | bilma\n",
      "Processing Record 45 of Set 9 | kazalinsk\n",
      "City not found. Skipping...\n",
      "Processing Record 46 of Set 9 | yulara\n",
      "Processing Record 47 of Set 9 | kieta\n",
      "Processing Record 48 of Set 9 | altay\n",
      "Processing Record 49 of Set 9 | colonelganj\n",
      "Processing Record 50 of Set 9 | lesosibirsk\n",
      "Processing Record 1 of Set 10 | galle\n",
      "Processing Record 2 of Set 10 | ensley\n",
      "Processing Record 3 of Set 10 | bubaque\n",
      "Processing Record 4 of Set 10 | barreiras\n",
      "Processing Record 5 of Set 10 | karoi\n",
      "Processing Record 6 of Set 10 | portland\n",
      "Processing Record 7 of Set 10 | timmins\n",
      "Processing Record 8 of Set 10 | abu dhabi\n",
      "Processing Record 9 of Set 10 | mogadishu\n",
      "Processing Record 10 of Set 10 | aqtobe\n",
      "Processing Record 11 of Set 10 | russell\n",
      "Processing Record 12 of Set 10 | sao gabriel da cachoeira\n",
      "Processing Record 13 of Set 10 | usinsk\n",
      "Processing Record 14 of Set 10 | yanan\n",
      "City not found. Skipping...\n",
      "Processing Record 15 of Set 10 | itaituba\n",
      "Processing Record 16 of Set 10 | aksarka\n",
      "Processing Record 17 of Set 10 | changping\n",
      "Processing Record 18 of Set 10 | roma\n",
      "Processing Record 19 of Set 10 | tromso\n",
      "Processing Record 20 of Set 10 | padang\n",
      "Processing Record 21 of Set 10 | olafsvik\n",
      "Processing Record 22 of Set 10 | broken hill\n",
      "Processing Record 23 of Set 10 | boqueirao\n",
      "Processing Record 24 of Set 10 | praya\n",
      "Processing Record 25 of Set 10 | port augusta\n",
      "Processing Record 26 of Set 10 | porteirinha\n",
      "Processing Record 27 of Set 10 | yaan\n",
      "Processing Record 28 of Set 10 | faya\n",
      "Processing Record 29 of Set 10 | dzaoudzi\n",
      "Processing Record 30 of Set 10 | moose factory\n",
      "Processing Record 31 of Set 10 | huarmey\n",
      "Processing Record 32 of Set 10 | madang\n",
      "Processing Record 33 of Set 10 | mocuba\n",
      "Processing Record 34 of Set 10 | koutiala\n",
      "Processing Record 35 of Set 10 | birin\n",
      "Processing Record 36 of Set 10 | verkhoyansk\n",
      "Processing Record 37 of Set 10 | khonuu\n",
      "City not found. Skipping...\n",
      "Processing Record 38 of Set 10 | mrirt\n",
      "City not found. Skipping...\n",
      "Processing Record 39 of Set 10 | talnakh\n",
      "Processing Record 40 of Set 10 | zhanatas\n",
      "City not found. Skipping...\n",
      "Processing Record 41 of Set 10 | quimper\n",
      "Processing Record 42 of Set 10 | carutapera\n",
      "Processing Record 43 of Set 10 | rabaul\n",
      "Processing Record 44 of Set 10 | rosa zarate\n",
      "Processing Record 45 of Set 10 | ballina\n",
      "Processing Record 46 of Set 10 | kargasok\n",
      "Processing Record 47 of Set 10 | coruripe\n",
      "Processing Record 48 of Set 10 | codrington\n",
      "Processing Record 49 of Set 10 | haibowan\n",
      "City not found. Skipping...\n",
      "Processing Record 50 of Set 10 | imeni poliny osipenko\n",
      "Processing Record 1 of Set 11 | tumannyy\n",
      "City not found. Skipping...\n",
      "Processing Record 2 of Set 11 | inhambane\n",
      "Processing Record 3 of Set 11 | constantine\n",
      "Processing Record 4 of Set 11 | sakai\n",
      "Processing Record 5 of Set 11 | tual\n",
      "Processing Record 6 of Set 11 | morgan city\n",
      "Processing Record 7 of Set 11 | neiafu\n",
      "Processing Record 8 of Set 11 | puerto leguizamo\n",
      "Processing Record 9 of Set 11 | solnechnyy\n",
      "Processing Record 10 of Set 11 | minna\n",
      "Processing Record 11 of Set 11 | micheweni\n",
      "Processing Record 12 of Set 11 | mandalgovi\n",
      "Processing Record 13 of Set 11 | kawalu\n",
      "Processing Record 14 of Set 11 | college\n",
      "Processing Record 15 of Set 11 | hobyo\n",
      "Processing Record 16 of Set 11 | ranong\n",
      "Processing Record 17 of Set 11 | erechim\n",
      "Processing Record 18 of Set 11 | parambu\n",
      "Processing Record 19 of Set 11 | boa vista\n",
      "Processing Record 20 of Set 11 | sonoita\n",
      "Processing Record 21 of Set 11 | caborca\n",
      "Processing Record 22 of Set 11 | samarai\n",
      "Processing Record 23 of Set 11 | aripuana\n",
      "Processing Record 24 of Set 11 | nhulunbuy\n",
      "Processing Record 25 of Set 11 | shimoda\n",
      "Processing Record 26 of Set 11 | mwinilunga\n",
      "Processing Record 27 of Set 11 | shenzhen\n",
      "Processing Record 28 of Set 11 | ilulissat\n",
      "Processing Record 29 of Set 11 | slyudyanka\n",
      "Processing Record 30 of Set 11 | tilichiki\n",
      "Processing Record 31 of Set 11 | tokzar\n",
      "City not found. Skipping...\n",
      "Processing Record 32 of Set 11 | palabuhanratu\n",
      "City not found. Skipping...\n",
      "Processing Record 33 of Set 11 | zlatoustovsk\n",
      "City not found. Skipping...\n",
      "Processing Record 34 of Set 11 | saint-ambroise\n",
      "Processing Record 35 of Set 11 | cabra\n",
      "Processing Record 36 of Set 11 | doha\n",
      "Processing Record 37 of Set 11 | barra patuca\n",
      "Processing Record 38 of Set 11 | taltal\n",
      "Processing Record 39 of Set 11 | morant bay\n",
      "Processing Record 40 of Set 11 | bandarbeyla\n",
      "Processing Record 41 of Set 11 | buala\n",
      "Processing Record 42 of Set 11 | hami\n",
      "Processing Record 43 of Set 11 | nago\n",
      "Processing Record 44 of Set 11 | rokupr\n",
      "Processing Record 45 of Set 11 | grootfontein\n",
      "Processing Record 46 of Set 11 | nianzishan\n",
      "Processing Record 47 of Set 11 | brewster\n",
      "Processing Record 48 of Set 11 | dzhebariki-khaya\n",
      "Processing Record 49 of Set 11 | oussouye\n",
      "Processing Record 50 of Set 11 | lata\n",
      "Processing Record 1 of Set 12 | papasquiaro\n",
      "City not found. Skipping...\n",
      "Processing Record 2 of Set 12 | rizhao\n",
      "Processing Record 3 of Set 12 | camacha\n",
      "Processing Record 4 of Set 12 | dryden\n",
      "Processing Record 5 of Set 12 | mersing\n",
      "Processing Record 6 of Set 12 | ekhabi\n",
      "Processing Record 7 of Set 12 | miranda de ebro\n",
      "Processing Record 8 of Set 12 | grand-santi\n",
      "Processing Record 9 of Set 12 | pyshchug\n",
      "Processing Record 10 of Set 12 | half moon bay\n",
      "Processing Record 11 of Set 12 | tadine\n",
      "Processing Record 12 of Set 12 | port-gentil\n",
      "Processing Record 13 of Set 12 | beya\n",
      "Processing Record 14 of Set 12 | adwa\n",
      "Processing Record 15 of Set 12 | tiarei\n",
      "Processing Record 16 of Set 12 | umm lajj\n",
      "Processing Record 17 of Set 12 | beloha\n",
      "Processing Record 18 of Set 12 | andevoranto\n",
      "City not found. Skipping...\n",
      "Processing Record 19 of Set 12 | mugur-aksy\n",
      "Processing Record 20 of Set 12 | ixtapa\n",
      "Processing Record 21 of Set 12 | chokwe\n",
      "Processing Record 22 of Set 12 | progreso\n",
      "Processing Record 23 of Set 12 | oksfjord\n",
      "Processing Record 24 of Set 12 | sistranda\n",
      "Processing Record 25 of Set 12 | ornskoldsvik\n",
      "Processing Record 26 of Set 12 | katsuura\n",
      "Processing Record 27 of Set 12 | ostersund\n",
      "Processing Record 28 of Set 12 | khasan\n",
      "Processing Record 29 of Set 12 | humaita\n",
      "Processing Record 30 of Set 12 | tiksi\n",
      "Processing Record 31 of Set 12 | ust-uda\n",
      "Processing Record 32 of Set 12 | garut\n",
      "Processing Record 33 of Set 12 | el balyana\n",
      "City not found. Skipping...\n",
      "Processing Record 34 of Set 12 | hovd\n",
      "Processing Record 35 of Set 12 | mercedes\n",
      "Processing Record 36 of Set 12 | tirano\n",
      "Processing Record 37 of Set 12 | buchanan\n",
      "Processing Record 38 of Set 12 | karratha\n",
      "Processing Record 39 of Set 12 | soure\n",
      "Processing Record 40 of Set 12 | tecuala\n",
      "Processing Record 41 of Set 12 | bur gabo\n",
      "City not found. Skipping...\n",
      "Processing Record 42 of Set 12 | vostok\n",
      "Processing Record 43 of Set 12 | dwarka\n",
      "Processing Record 44 of Set 12 | tuggurt\n",
      "City not found. Skipping...\n",
      "-----------------------------\n",
      "Data Retrieval Complete      \n",
      "-----------------------------\n"
     ]
    }
   ],
   "source": [
    "# Loop through all the cities in the list.\n",
    "for i, city in enumerate(cities):\n",
    "\n",
    "    # Group cities in sets of 50 for logging purposes.\n",
    "    if (i % 50 == 0 and i >= 50):\n",
    "        set_count += 1\n",
    "        record_count = 1\n",
    "    # Create endpoint URL with each city.\n",
    "    city_url = url + \"&q=\" + city.replace(\" \",\"+\")\n",
    "\n",
    "    # Log the URL, record, and set numbers and the city.\n",
    "    print(f\"Processing Record {record_count} of Set {set_count} | {city}\")\n",
    "    # Add 1 to the record count.\n",
    "    record_count += 1\n",
    "    \n",
    "# Run an API request for each of the cities.\n",
    "    try:\n",
    "        # Parse the JSON and retrieve data.\n",
    "        city_weather = requests.get(city_url).json()\n",
    "        # Parse out the needed data.\n",
    "        city_lat = city_weather[\"coord\"][\"lat\"]\n",
    "        city_lng = city_weather[\"coord\"][\"lon\"]\n",
    "        city_max_temp = city_weather[\"main\"][\"temp_max\"]\n",
    "        city_humidity = city_weather[\"main\"][\"humidity\"]\n",
    "        city_clouds = city_weather[\"clouds\"][\"all\"]\n",
    "        city_wind = city_weather[\"wind\"][\"speed\"]\n",
    "        city_country = city_weather[\"sys\"][\"country\"]\n",
    "        # Convert the date to ISO standard.\n",
    "        city_date = datetime.utcfromtimestamp(city_weather[\"dt\"]).strftime('%Y-%m-%d %H:%M:%S')\n",
    "        # Append the city information into city_data list.\n",
    "        city_data.append({\"City\": city.title(),\n",
    "                          \"Lat\": city_lat,\n",
    "                          \"Lng\": city_lng,\n",
    "                          \"Max Temp\": city_max_temp,\n",
    "                          \"Humidity\": city_humidity,\n",
    "                          \"Cloudiness\": city_clouds,\n",
    "                          \"Wind Speed\": city_wind,\n",
    "                          \"Country\": city_country,\n",
    "                          \"Date\": city_date})\n",
    "\n",
    "# If an error is experienced, skip the city.\n",
    "    except:\n",
    "        print(\"City not found. Skipping...\")\n",
    "        pass\n",
    "\n",
    "# Indicate that Data Loading is complete.\n",
    "print(\"-----------------------------\")\n",
    "print(\"Data Retrieval Complete      \")\n",
    "print(\"-----------------------------\")"
   ]
  },
  {
   "cell_type": "code",
   "execution_count": 23,
   "metadata": {},
   "outputs": [
    {
     "data": {
      "text/html": [
       "<div>\n",
       "<style scoped>\n",
       "    .dataframe tbody tr th:only-of-type {\n",
       "        vertical-align: middle;\n",
       "    }\n",
       "\n",
       "    .dataframe tbody tr th {\n",
       "        vertical-align: top;\n",
       "    }\n",
       "\n",
       "    .dataframe thead th {\n",
       "        text-align: right;\n",
       "    }\n",
       "</style>\n",
       "<table border=\"1\" class=\"dataframe\">\n",
       "  <thead>\n",
       "    <tr style=\"text-align: right;\">\n",
       "      <th></th>\n",
       "      <th>City</th>\n",
       "      <th>Lat</th>\n",
       "      <th>Lng</th>\n",
       "      <th>Max Temp</th>\n",
       "      <th>Humidity</th>\n",
       "      <th>Cloudiness</th>\n",
       "      <th>Wind Speed</th>\n",
       "      <th>Country</th>\n",
       "      <th>Date</th>\n",
       "    </tr>\n",
       "  </thead>\n",
       "  <tbody>\n",
       "    <tr>\n",
       "      <th>0</th>\n",
       "      <td>Rikitea</td>\n",
       "      <td>-23.12</td>\n",
       "      <td>-134.97</td>\n",
       "      <td>69.82</td>\n",
       "      <td>84</td>\n",
       "      <td>100</td>\n",
       "      <td>22.79</td>\n",
       "      <td>PF</td>\n",
       "      <td>2020-08-20 03:23:03</td>\n",
       "    </tr>\n",
       "    <tr>\n",
       "      <th>1</th>\n",
       "      <td>Ribeira Grande</td>\n",
       "      <td>38.52</td>\n",
       "      <td>-28.70</td>\n",
       "      <td>69.75</td>\n",
       "      <td>69</td>\n",
       "      <td>58</td>\n",
       "      <td>16.89</td>\n",
       "      <td>PT</td>\n",
       "      <td>2020-08-20 03:23:57</td>\n",
       "    </tr>\n",
       "    <tr>\n",
       "      <th>2</th>\n",
       "      <td>Busselton</td>\n",
       "      <td>-33.65</td>\n",
       "      <td>115.33</td>\n",
       "      <td>55.99</td>\n",
       "      <td>85</td>\n",
       "      <td>60</td>\n",
       "      <td>8.14</td>\n",
       "      <td>AU</td>\n",
       "      <td>2020-08-20 03:23:57</td>\n",
       "    </tr>\n",
       "    <tr>\n",
       "      <th>3</th>\n",
       "      <td>Vestmannaeyjar</td>\n",
       "      <td>63.44</td>\n",
       "      <td>-20.27</td>\n",
       "      <td>48.63</td>\n",
       "      <td>81</td>\n",
       "      <td>100</td>\n",
       "      <td>13.00</td>\n",
       "      <td>IS</td>\n",
       "      <td>2020-08-20 03:23:58</td>\n",
       "    </tr>\n",
       "    <tr>\n",
       "      <th>4</th>\n",
       "      <td>Kannur</td>\n",
       "      <td>11.87</td>\n",
       "      <td>75.36</td>\n",
       "      <td>77.00</td>\n",
       "      <td>100</td>\n",
       "      <td>40</td>\n",
       "      <td>3.51</td>\n",
       "      <td>IN</td>\n",
       "      <td>2020-08-20 03:23:59</td>\n",
       "    </tr>\n",
       "    <tr>\n",
       "      <th>5</th>\n",
       "      <td>Husavik</td>\n",
       "      <td>66.04</td>\n",
       "      <td>-17.34</td>\n",
       "      <td>35.60</td>\n",
       "      <td>93</td>\n",
       "      <td>0</td>\n",
       "      <td>3.36</td>\n",
       "      <td>IS</td>\n",
       "      <td>2020-08-20 03:23:59</td>\n",
       "    </tr>\n",
       "    <tr>\n",
       "      <th>6</th>\n",
       "      <td>Mataura</td>\n",
       "      <td>-46.19</td>\n",
       "      <td>168.86</td>\n",
       "      <td>57.00</td>\n",
       "      <td>79</td>\n",
       "      <td>97</td>\n",
       "      <td>5.01</td>\n",
       "      <td>NZ</td>\n",
       "      <td>2020-08-20 03:23:59</td>\n",
       "    </tr>\n",
       "    <tr>\n",
       "      <th>7</th>\n",
       "      <td>Darab</td>\n",
       "      <td>28.75</td>\n",
       "      <td>54.54</td>\n",
       "      <td>88.29</td>\n",
       "      <td>31</td>\n",
       "      <td>70</td>\n",
       "      <td>1.52</td>\n",
       "      <td>IR</td>\n",
       "      <td>2020-08-20 03:23:59</td>\n",
       "    </tr>\n",
       "    <tr>\n",
       "      <th>8</th>\n",
       "      <td>Albany</td>\n",
       "      <td>42.60</td>\n",
       "      <td>-73.97</td>\n",
       "      <td>64.00</td>\n",
       "      <td>65</td>\n",
       "      <td>4</td>\n",
       "      <td>6.49</td>\n",
       "      <td>US</td>\n",
       "      <td>2020-08-20 03:23:05</td>\n",
       "    </tr>\n",
       "    <tr>\n",
       "      <th>9</th>\n",
       "      <td>Luwuk</td>\n",
       "      <td>-0.95</td>\n",
       "      <td>122.79</td>\n",
       "      <td>84.06</td>\n",
       "      <td>58</td>\n",
       "      <td>45</td>\n",
       "      <td>6.93</td>\n",
       "      <td>ID</td>\n",
       "      <td>2020-08-20 03:24:00</td>\n",
       "    </tr>\n",
       "  </tbody>\n",
       "</table>\n",
       "</div>"
      ],
      "text/plain": [
       "             City    Lat     Lng  Max Temp  Humidity  Cloudiness  Wind Speed  \\\n",
       "0         Rikitea -23.12 -134.97     69.82        84         100       22.79   \n",
       "1  Ribeira Grande  38.52  -28.70     69.75        69          58       16.89   \n",
       "2       Busselton -33.65  115.33     55.99        85          60        8.14   \n",
       "3  Vestmannaeyjar  63.44  -20.27     48.63        81         100       13.00   \n",
       "4          Kannur  11.87   75.36     77.00       100          40        3.51   \n",
       "5         Husavik  66.04  -17.34     35.60        93           0        3.36   \n",
       "6         Mataura -46.19  168.86     57.00        79          97        5.01   \n",
       "7           Darab  28.75   54.54     88.29        31          70        1.52   \n",
       "8          Albany  42.60  -73.97     64.00        65           4        6.49   \n",
       "9           Luwuk  -0.95  122.79     84.06        58          45        6.93   \n",
       "\n",
       "  Country                 Date  \n",
       "0      PF  2020-08-20 03:23:03  \n",
       "1      PT  2020-08-20 03:23:57  \n",
       "2      AU  2020-08-20 03:23:57  \n",
       "3      IS  2020-08-20 03:23:58  \n",
       "4      IN  2020-08-20 03:23:59  \n",
       "5      IS  2020-08-20 03:23:59  \n",
       "6      NZ  2020-08-20 03:23:59  \n",
       "7      IR  2020-08-20 03:23:59  \n",
       "8      US  2020-08-20 03:23:05  \n",
       "9      ID  2020-08-20 03:24:00  "
      ]
     },
     "execution_count": 23,
     "metadata": {},
     "output_type": "execute_result"
    }
   ],
   "source": [
    "# Convert the array of dictionaries to a Pandas DataFrame.\n",
    "city_data_df = pd.DataFrame(city_data)\n",
    "city_data_df.head(10)"
   ]
  },
  {
   "cell_type": "code",
   "execution_count": 24,
   "metadata": {},
   "outputs": [],
   "source": [
    "new_column_order = [\"City\", \"Country\", \"Date\", \"Lat\", \"Lng\", \"Max Temp\", \"Humidity\", \"Cloudiness\", \"Wind Speed\"]"
   ]
  },
  {
   "cell_type": "code",
   "execution_count": 25,
   "metadata": {},
   "outputs": [
    {
     "data": {
      "text/html": [
       "<div>\n",
       "<style scoped>\n",
       "    .dataframe tbody tr th:only-of-type {\n",
       "        vertical-align: middle;\n",
       "    }\n",
       "\n",
       "    .dataframe tbody tr th {\n",
       "        vertical-align: top;\n",
       "    }\n",
       "\n",
       "    .dataframe thead th {\n",
       "        text-align: right;\n",
       "    }\n",
       "</style>\n",
       "<table border=\"1\" class=\"dataframe\">\n",
       "  <thead>\n",
       "    <tr style=\"text-align: right;\">\n",
       "      <th></th>\n",
       "      <th>City</th>\n",
       "      <th>Country</th>\n",
       "      <th>Date</th>\n",
       "      <th>Lat</th>\n",
       "      <th>Lng</th>\n",
       "      <th>Max Temp</th>\n",
       "      <th>Humidity</th>\n",
       "      <th>Cloudiness</th>\n",
       "      <th>Wind Speed</th>\n",
       "    </tr>\n",
       "  </thead>\n",
       "  <tbody>\n",
       "    <tr>\n",
       "      <th>0</th>\n",
       "      <td>Rikitea</td>\n",
       "      <td>PF</td>\n",
       "      <td>2020-08-20 03:23:03</td>\n",
       "      <td>-23.12</td>\n",
       "      <td>-134.97</td>\n",
       "      <td>69.82</td>\n",
       "      <td>84</td>\n",
       "      <td>100</td>\n",
       "      <td>22.79</td>\n",
       "    </tr>\n",
       "    <tr>\n",
       "      <th>1</th>\n",
       "      <td>Ribeira Grande</td>\n",
       "      <td>PT</td>\n",
       "      <td>2020-08-20 03:23:57</td>\n",
       "      <td>38.52</td>\n",
       "      <td>-28.70</td>\n",
       "      <td>69.75</td>\n",
       "      <td>69</td>\n",
       "      <td>58</td>\n",
       "      <td>16.89</td>\n",
       "    </tr>\n",
       "    <tr>\n",
       "      <th>2</th>\n",
       "      <td>Busselton</td>\n",
       "      <td>AU</td>\n",
       "      <td>2020-08-20 03:23:57</td>\n",
       "      <td>-33.65</td>\n",
       "      <td>115.33</td>\n",
       "      <td>55.99</td>\n",
       "      <td>85</td>\n",
       "      <td>60</td>\n",
       "      <td>8.14</td>\n",
       "    </tr>\n",
       "    <tr>\n",
       "      <th>3</th>\n",
       "      <td>Vestmannaeyjar</td>\n",
       "      <td>IS</td>\n",
       "      <td>2020-08-20 03:23:58</td>\n",
       "      <td>63.44</td>\n",
       "      <td>-20.27</td>\n",
       "      <td>48.63</td>\n",
       "      <td>81</td>\n",
       "      <td>100</td>\n",
       "      <td>13.00</td>\n",
       "    </tr>\n",
       "    <tr>\n",
       "      <th>4</th>\n",
       "      <td>Kannur</td>\n",
       "      <td>IN</td>\n",
       "      <td>2020-08-20 03:23:59</td>\n",
       "      <td>11.87</td>\n",
       "      <td>75.36</td>\n",
       "      <td>77.00</td>\n",
       "      <td>100</td>\n",
       "      <td>40</td>\n",
       "      <td>3.51</td>\n",
       "    </tr>\n",
       "  </tbody>\n",
       "</table>\n",
       "</div>"
      ],
      "text/plain": [
       "             City Country                 Date    Lat     Lng  Max Temp  \\\n",
       "0         Rikitea      PF  2020-08-20 03:23:03 -23.12 -134.97     69.82   \n",
       "1  Ribeira Grande      PT  2020-08-20 03:23:57  38.52  -28.70     69.75   \n",
       "2       Busselton      AU  2020-08-20 03:23:57 -33.65  115.33     55.99   \n",
       "3  Vestmannaeyjar      IS  2020-08-20 03:23:58  63.44  -20.27     48.63   \n",
       "4          Kannur      IN  2020-08-20 03:23:59  11.87   75.36     77.00   \n",
       "\n",
       "   Humidity  Cloudiness  Wind Speed  \n",
       "0        84         100       22.79  \n",
       "1        69          58       16.89  \n",
       "2        85          60        8.14  \n",
       "3        81         100       13.00  \n",
       "4       100          40        3.51  "
      ]
     },
     "execution_count": 25,
     "metadata": {},
     "output_type": "execute_result"
    }
   ],
   "source": [
    "sorted_city_data_df = city_data_df[new_column_order]\n",
    "sorted_city_data_df.head()"
   ]
  },
  {
   "cell_type": "code",
   "execution_count": 26,
   "metadata": {},
   "outputs": [],
   "source": [
    "# Create the output file (CSV).\n",
    "output_data_file = \"weather_data/cities.csv\"\n",
    "# Export the City_Data into a CSV.\n",
    "sorted_city_data_df.to_csv(output_data_file, index_label=\"City_ID\")"
   ]
  },
  {
   "cell_type": "code",
   "execution_count": 27,
   "metadata": {},
   "outputs": [],
   "source": [
    "# Extract relevant fields from the DataFrame for plotting.\n",
    "lats = city_data_df[\"Lat\"]\n",
    "max_temps = city_data_df[\"Max Temp\"]\n",
    "humidity = city_data_df[\"Humidity\"]\n",
    "cloudiness = city_data_df[\"Cloudiness\"]\n",
    "wind_speed = city_data_df[\"Wind Speed\"]"
   ]
  },
  {
   "cell_type": "code",
   "execution_count": 28,
   "metadata": {},
   "outputs": [
    {
     "data": {
      "text/plain": [
       "1597894056.0708964"
      ]
     },
     "execution_count": 28,
     "metadata": {},
     "output_type": "execute_result"
    }
   ],
   "source": [
    "# Import the time module.\n",
    "import time\n",
    "# Get today's date in seconds.\n",
    "today = time.time()\n",
    "today"
   ]
  },
  {
   "cell_type": "code",
   "execution_count": 29,
   "metadata": {},
   "outputs": [
    {
     "data": {
      "image/png": "[encoded data removed]",
      "text/plain": [
       "<Figure size 432x288 with 1 Axes>"
      ]
     },
     "metadata": {
      "needs_background": "light"
     },
     "output_type": "display_data"
    }
   ],
   "source": [
    "# Build the scatter plot for latitude vs. max temperature.\n",
    "plt.scatter(lats,\n",
    "            max_temps,\n",
    "            edgecolor=\"black\", linewidths=1, marker=\"o\",\n",
    "            alpha=0.8, label=\"Cities\")\n",
    "\n",
    "# Incorporate the other graph properties.\n",
    "plt.title(f\"City Latitude vs. Max Temperature \"+ time.strftime(\"%x\"))\n",
    "plt.ylabel(\"Max Temperature (F)\")\n",
    "plt.xlabel(\"Latitude\")\n",
    "plt.grid(True)\n",
    "\n",
    "# Save the figure.\n",
    "plt.savefig(\"weather_data/Fig1.png\")\n",
    "\n",
    "# Show plot.\n",
    "plt.show()"
   ]
  },
  {
   "cell_type": "code",
   "execution_count": 30,
   "metadata": {},
   "outputs": [
    {
     "data": {
      "image/png": "[encoded data removed]",
      "text/plain": [
       "<Figure size 432x288 with 1 Axes>"
      ]
     },
     "metadata": {
      "needs_background": "light"
     },
     "output_type": "display_data"
    }
   ],
   "source": [
    "# Build the scatter plots for latitude vs. humidity.\n",
    "plt.scatter(lats,\n",
    "            humidity,\n",
    "            edgecolor=\"black\", linewidths=1, marker=\"o\",\n",
    "            alpha=0.8, label=\"Cities\")\n",
    "\n",
    "# Incorporate the other graph properties.\n",
    "plt.title(f\"City Latitude vs. Humidity \"+ time.strftime(\"%x\"))\n",
    "plt.ylabel(\"Humidity (%)\")\n",
    "plt.xlabel(\"Latitude\")\n",
    "plt.grid(True)\n",
    "# Save the figure.\n",
    "plt.savefig(\"weather_data/Fig2.png\")\n",
    "# Show plot.\n",
    "plt.show()"
   ]
  },
  {
   "cell_type": "code",
   "execution_count": 31,
   "metadata": {},
   "outputs": [
    {
     "data": {
      "image/png": "[encoded data removed]",
      "text/plain": [
       "<Figure size 432x288 with 1 Axes>"
      ]
     },
     "metadata": {
      "needs_background": "light"
     },
     "output_type": "display_data"
    }
   ],
   "source": [
    "# Build the scatter plots for latitude vs. cloudiness.\n",
    "plt.scatter(lats,\n",
    "            cloudiness,\n",
    "            edgecolor=\"black\", linewidths=1, marker=\"o\",\n",
    "            alpha=0.8, label=\"Cities\")\n",
    "\n",
    "# Incorporate the other graph properties.\n",
    "plt.title(f\"City Latitude vs. Cloudiness (%) \"+ time.strftime(\"%x\"))\n",
    "plt.ylabel(\"Cloudiness (%)\")\n",
    "plt.xlabel(\"Latitude\")\n",
    "plt.grid(True)\n",
    "# Save the figure.\n",
    "plt.savefig(\"weather_data/Fig3.png\")\n",
    "# Show plot.\n",
    "plt.show()"
   ]
  },
  {
   "cell_type": "code",
   "execution_count": 32,
   "metadata": {},
   "outputs": [
    {
     "data": {
      "image/png": "[encoded data removed]",
      "text/plain": [
       "<Figure size 432x288 with 1 Axes>"
      ]
     },
     "metadata": {
      "needs_background": "light"
     },
     "output_type": "display_data"
    }
   ],
   "source": [
    "# Build the scatter plots for latitude vs. wind speed.\n",
    "plt.scatter(lats,\n",
    "            wind_speed,\n",
    "            edgecolor=\"black\", linewidths=1, marker=\"o\",\n",
    "            alpha=0.8, label=\"Cities\")\n",
    "\n",
    "# Incorporate the other graph properties.\n",
    "plt.title(f\"City Latitude vs. Wind Speed \"+ time.strftime(\"%x\"))\n",
    "plt.ylabel(\"Wind Speed (mph)\")\n",
    "plt.xlabel(\"Latitude\")\n",
    "plt.grid(True)\n",
    "# Save the figure.\n",
    "plt.savefig(\"weather_data/Fig4.png\")\n",
    "# Show plot.\n",
    "plt.show()"
   ]
  },
  {
   "cell_type": "code",
   "execution_count": 7,
   "metadata": {},
   "outputs": [],
   "source": [
    "# Add Matplotlib inline magic command\n",
    "%matplotlib inline\n",
    "# Dependencies and Setup\n",
    "import matplotlib.pyplot as plt\n",
    "import pandas as pd"
   ]
  },
  {
   "cell_type": "code",
   "execution_count": 5,
   "metadata": {},
   "outputs": [],
   "source": [
    "# Files to load\n",
    "city_data_to_load = \"weather_data/cities.csv\""
   ]
  },
  {
   "cell_type": "code",
   "execution_count": 8,
   "metadata": {},
   "outputs": [
    {
     "data": {
      "text/html": [
       "<div>\n",
       "<style scoped>\n",
       "    .dataframe tbody tr th:only-of-type {\n",
       "        vertical-align: middle;\n",
       "    }\n",
       "\n",
       "    .dataframe tbody tr th {\n",
       "        vertical-align: top;\n",
       "    }\n",
       "\n",
       "    .dataframe thead th {\n",
       "        text-align: right;\n",
       "    }\n",
       "</style>\n",
       "<table border=\"1\" class=\"dataframe\">\n",
       "  <thead>\n",
       "    <tr style=\"text-align: right;\">\n",
       "      <th></th>\n",
       "      <th>City_ID</th>\n",
       "      <th>City</th>\n",
       "      <th>Country</th>\n",
       "      <th>Date</th>\n",
       "      <th>Lat</th>\n",
       "      <th>Lng</th>\n",
       "      <th>Max Temp</th>\n",
       "      <th>Humidity</th>\n",
       "      <th>Cloudiness</th>\n",
       "      <th>Wind Speed</th>\n",
       "    </tr>\n",
       "  </thead>\n",
       "  <tbody>\n",
       "    <tr>\n",
       "      <th>0</th>\n",
       "      <td>0</td>\n",
       "      <td>Rikitea</td>\n",
       "      <td>PF</td>\n",
       "      <td>2020-08-20 03:23:03</td>\n",
       "      <td>-23.12</td>\n",
       "      <td>-134.97</td>\n",
       "      <td>69.82</td>\n",
       "      <td>84</td>\n",
       "      <td>100</td>\n",
       "      <td>22.79</td>\n",
       "    </tr>\n",
       "    <tr>\n",
       "      <th>1</th>\n",
       "      <td>1</td>\n",
       "      <td>Ribeira Grande</td>\n",
       "      <td>PT</td>\n",
       "      <td>2020-08-20 03:23:57</td>\n",
       "      <td>38.52</td>\n",
       "      <td>-28.70</td>\n",
       "      <td>69.75</td>\n",
       "      <td>69</td>\n",
       "      <td>58</td>\n",
       "      <td>16.89</td>\n",
       "    </tr>\n",
       "    <tr>\n",
       "      <th>2</th>\n",
       "      <td>2</td>\n",
       "      <td>Busselton</td>\n",
       "      <td>AU</td>\n",
       "      <td>2020-08-20 03:23:57</td>\n",
       "      <td>-33.65</td>\n",
       "      <td>115.33</td>\n",
       "      <td>55.99</td>\n",
       "      <td>85</td>\n",
       "      <td>60</td>\n",
       "      <td>8.14</td>\n",
       "    </tr>\n",
       "    <tr>\n",
       "      <th>3</th>\n",
       "      <td>3</td>\n",
       "      <td>Vestmannaeyjar</td>\n",
       "      <td>IS</td>\n",
       "      <td>2020-08-20 03:23:58</td>\n",
       "      <td>63.44</td>\n",
       "      <td>-20.27</td>\n",
       "      <td>48.63</td>\n",
       "      <td>81</td>\n",
       "      <td>100</td>\n",
       "      <td>13.00</td>\n",
       "    </tr>\n",
       "    <tr>\n",
       "      <th>4</th>\n",
       "      <td>4</td>\n",
       "      <td>Kannur</td>\n",
       "      <td>IN</td>\n",
       "      <td>2020-08-20 03:23:59</td>\n",
       "      <td>11.87</td>\n",
       "      <td>75.36</td>\n",
       "      <td>77.00</td>\n",
       "      <td>100</td>\n",
       "      <td>40</td>\n",
       "      <td>3.51</td>\n",
       "    </tr>\n",
       "    <tr>\n",
       "      <th>5</th>\n",
       "      <td>5</td>\n",
       "      <td>Husavik</td>\n",
       "      <td>IS</td>\n",
       "      <td>2020-08-20 03:23:59</td>\n",
       "      <td>66.04</td>\n",
       "      <td>-17.34</td>\n",
       "      <td>35.60</td>\n",
       "      <td>93</td>\n",
       "      <td>0</td>\n",
       "      <td>3.36</td>\n",
       "    </tr>\n",
       "    <tr>\n",
       "      <th>6</th>\n",
       "      <td>6</td>\n",
       "      <td>Mataura</td>\n",
       "      <td>NZ</td>\n",
       "      <td>2020-08-20 03:23:59</td>\n",
       "      <td>-46.19</td>\n",
       "      <td>168.86</td>\n",
       "      <td>57.00</td>\n",
       "      <td>79</td>\n",
       "      <td>97</td>\n",
       "      <td>5.01</td>\n",
       "    </tr>\n",
       "    <tr>\n",
       "      <th>7</th>\n",
       "      <td>7</td>\n",
       "      <td>Darab</td>\n",
       "      <td>IR</td>\n",
       "      <td>2020-08-20 03:23:59</td>\n",
       "      <td>28.75</td>\n",
       "      <td>54.54</td>\n",
       "      <td>88.29</td>\n",
       "      <td>31</td>\n",
       "      <td>70</td>\n",
       "      <td>1.52</td>\n",
       "    </tr>\n",
       "    <tr>\n",
       "      <th>8</th>\n",
       "      <td>8</td>\n",
       "      <td>Albany</td>\n",
       "      <td>US</td>\n",
       "      <td>2020-08-20 03:23:05</td>\n",
       "      <td>42.60</td>\n",
       "      <td>-73.97</td>\n",
       "      <td>64.00</td>\n",
       "      <td>65</td>\n",
       "      <td>4</td>\n",
       "      <td>6.49</td>\n",
       "    </tr>\n",
       "    <tr>\n",
       "      <th>9</th>\n",
       "      <td>9</td>\n",
       "      <td>Luwuk</td>\n",
       "      <td>ID</td>\n",
       "      <td>2020-08-20 03:24:00</td>\n",
       "      <td>-0.95</td>\n",
       "      <td>122.79</td>\n",
       "      <td>84.06</td>\n",
       "      <td>58</td>\n",
       "      <td>45</td>\n",
       "      <td>6.93</td>\n",
       "    </tr>\n",
       "  </tbody>\n",
       "</table>\n",
       "</div>"
      ],
      "text/plain": [
       "   City_ID            City Country                 Date    Lat     Lng  \\\n",
       "0        0         Rikitea      PF  2020-08-20 03:23:03 -23.12 -134.97   \n",
       "1        1  Ribeira Grande      PT  2020-08-20 03:23:57  38.52  -28.70   \n",
       "2        2       Busselton      AU  2020-08-20 03:23:57 -33.65  115.33   \n",
       "3        3  Vestmannaeyjar      IS  2020-08-20 03:23:58  63.44  -20.27   \n",
       "4        4          Kannur      IN  2020-08-20 03:23:59  11.87   75.36   \n",
       "5        5         Husavik      IS  2020-08-20 03:23:59  66.04  -17.34   \n",
       "6        6         Mataura      NZ  2020-08-20 03:23:59 -46.19  168.86   \n",
       "7        7           Darab      IR  2020-08-20 03:23:59  28.75   54.54   \n",
       "8        8          Albany      US  2020-08-20 03:23:05  42.60  -73.97   \n",
       "9        9           Luwuk      ID  2020-08-20 03:24:00  -0.95  122.79   \n",
       "\n",
       "   Max Temp  Humidity  Cloudiness  Wind Speed  \n",
       "0     69.82        84         100       22.79  \n",
       "1     69.75        69          58       16.89  \n",
       "2     55.99        85          60        8.14  \n",
       "3     48.63        81         100       13.00  \n",
       "4     77.00       100          40        3.51  \n",
       "5     35.60        93           0        3.36  \n",
       "6     57.00        79          97        5.01  \n",
       "7     88.29        31          70        1.52  \n",
       "8     64.00        65           4        6.49  \n",
       "9     84.06        58          45        6.93  "
      ]
     },
     "execution_count": 8,
     "metadata": {},
     "output_type": "execute_result"
    }
   ],
   "source": [
    "# Read the city data file and store it in a pandas DataFrame.\n",
    "city_data_df = pd.read_csv(city_data_to_load)\n",
    "city_data_df.head(10)"
   ]
  },
  {
   "cell_type": "code",
   "execution_count": 10,
   "metadata": {},
   "outputs": [
    {
     "data": {
      "text/plain": [
       "City_ID                        13\n",
       "City                    Cape Town\n",
       "Country                        ZA\n",
       "Date          2020-08-20 03:21:27\n",
       "Lat                        -33.93\n",
       "Lng                         18.42\n",
       "Max Temp                       54\n",
       "Humidity                       81\n",
       "Cloudiness                     75\n",
       "Wind Speed                   5.82\n",
       "Name: 13, dtype: object"
      ]
     },
     "execution_count": 10,
     "metadata": {},
     "output_type": "execute_result"
    }
   ],
   "source": [
    "index13 = city_data_df.loc[13]\n",
    "index13"
   ]
  },
  {
   "cell_type": "code",
   "execution_count": 12,
   "metadata": {},
   "outputs": [
    {
     "data": {
      "text/html": [
       "<div>\n",
       "<style scoped>\n",
       "    .dataframe tbody tr th:only-of-type {\n",
       "        vertical-align: middle;\n",
       "    }\n",
       "\n",
       "    .dataframe tbody tr th {\n",
       "        vertical-align: top;\n",
       "    }\n",
       "\n",
       "    .dataframe thead th {\n",
       "        text-align: right;\n",
       "    }\n",
       "</style>\n",
       "<table border=\"1\" class=\"dataframe\">\n",
       "  <thead>\n",
       "    <tr style=\"text-align: right;\">\n",
       "      <th></th>\n",
       "      <th>City_ID</th>\n",
       "      <th>City</th>\n",
       "      <th>Country</th>\n",
       "      <th>Date</th>\n",
       "      <th>Lat</th>\n",
       "      <th>Lng</th>\n",
       "      <th>Max Temp</th>\n",
       "      <th>Humidity</th>\n",
       "      <th>Cloudiness</th>\n",
       "      <th>Wind Speed</th>\n",
       "    </tr>\n",
       "  </thead>\n",
       "  <tbody>\n",
       "    <tr>\n",
       "      <th>1</th>\n",
       "      <td>1</td>\n",
       "      <td>Ribeira Grande</td>\n",
       "      <td>PT</td>\n",
       "      <td>2020-08-20 03:23:57</td>\n",
       "      <td>38.52</td>\n",
       "      <td>-28.70</td>\n",
       "      <td>69.75</td>\n",
       "      <td>69</td>\n",
       "      <td>58</td>\n",
       "      <td>16.89</td>\n",
       "    </tr>\n",
       "    <tr>\n",
       "      <th>3</th>\n",
       "      <td>3</td>\n",
       "      <td>Vestmannaeyjar</td>\n",
       "      <td>IS</td>\n",
       "      <td>2020-08-20 03:23:58</td>\n",
       "      <td>63.44</td>\n",
       "      <td>-20.27</td>\n",
       "      <td>48.63</td>\n",
       "      <td>81</td>\n",
       "      <td>100</td>\n",
       "      <td>13.00</td>\n",
       "    </tr>\n",
       "    <tr>\n",
       "      <th>4</th>\n",
       "      <td>4</td>\n",
       "      <td>Kannur</td>\n",
       "      <td>IN</td>\n",
       "      <td>2020-08-20 03:23:59</td>\n",
       "      <td>11.87</td>\n",
       "      <td>75.36</td>\n",
       "      <td>77.00</td>\n",
       "      <td>100</td>\n",
       "      <td>40</td>\n",
       "      <td>3.51</td>\n",
       "    </tr>\n",
       "    <tr>\n",
       "      <th>5</th>\n",
       "      <td>5</td>\n",
       "      <td>Husavik</td>\n",
       "      <td>IS</td>\n",
       "      <td>2020-08-20 03:23:59</td>\n",
       "      <td>66.04</td>\n",
       "      <td>-17.34</td>\n",
       "      <td>35.60</td>\n",
       "      <td>93</td>\n",
       "      <td>0</td>\n",
       "      <td>3.36</td>\n",
       "    </tr>\n",
       "    <tr>\n",
       "      <th>7</th>\n",
       "      <td>7</td>\n",
       "      <td>Darab</td>\n",
       "      <td>IR</td>\n",
       "      <td>2020-08-20 03:23:59</td>\n",
       "      <td>28.75</td>\n",
       "      <td>54.54</td>\n",
       "      <td>88.29</td>\n",
       "      <td>31</td>\n",
       "      <td>70</td>\n",
       "      <td>1.52</td>\n",
       "    </tr>\n",
       "    <tr>\n",
       "      <th>...</th>\n",
       "      <td>...</td>\n",
       "      <td>...</td>\n",
       "      <td>...</td>\n",
       "      <td>...</td>\n",
       "      <td>...</td>\n",
       "      <td>...</td>\n",
       "      <td>...</td>\n",
       "      <td>...</td>\n",
       "      <td>...</td>\n",
       "      <td>...</td>\n",
       "    </tr>\n",
       "    <tr>\n",
       "      <th>538</th>\n",
       "      <td>538</td>\n",
       "      <td>Tirano</td>\n",
       "      <td>IT</td>\n",
       "      <td>2020-08-20 03:26:28</td>\n",
       "      <td>46.22</td>\n",
       "      <td>10.17</td>\n",
       "      <td>51.80</td>\n",
       "      <td>100</td>\n",
       "      <td>40</td>\n",
       "      <td>3.36</td>\n",
       "    </tr>\n",
       "    <tr>\n",
       "      <th>539</th>\n",
       "      <td>539</td>\n",
       "      <td>Buchanan</td>\n",
       "      <td>LR</td>\n",
       "      <td>2020-08-20 03:26:29</td>\n",
       "      <td>5.88</td>\n",
       "      <td>-10.05</td>\n",
       "      <td>75.79</td>\n",
       "      <td>87</td>\n",
       "      <td>100</td>\n",
       "      <td>10.38</td>\n",
       "    </tr>\n",
       "    <tr>\n",
       "      <th>542</th>\n",
       "      <td>542</td>\n",
       "      <td>Tecuala</td>\n",
       "      <td>MX</td>\n",
       "      <td>2020-08-20 03:26:29</td>\n",
       "      <td>22.40</td>\n",
       "      <td>-105.46</td>\n",
       "      <td>80.02</td>\n",
       "      <td>81</td>\n",
       "      <td>100</td>\n",
       "      <td>2.95</td>\n",
       "    </tr>\n",
       "    <tr>\n",
       "      <th>543</th>\n",
       "      <td>543</td>\n",
       "      <td>Vostok</td>\n",
       "      <td>RU</td>\n",
       "      <td>2020-08-20 03:26:31</td>\n",
       "      <td>46.49</td>\n",
       "      <td>135.88</td>\n",
       "      <td>62.22</td>\n",
       "      <td>54</td>\n",
       "      <td>100</td>\n",
       "      <td>7.38</td>\n",
       "    </tr>\n",
       "    <tr>\n",
       "      <th>544</th>\n",
       "      <td>544</td>\n",
       "      <td>Dwarka</td>\n",
       "      <td>IN</td>\n",
       "      <td>2020-08-20 03:26:31</td>\n",
       "      <td>22.24</td>\n",
       "      <td>68.97</td>\n",
       "      <td>83.73</td>\n",
       "      <td>83</td>\n",
       "      <td>64</td>\n",
       "      <td>19.91</td>\n",
       "    </tr>\n",
       "  </tbody>\n",
       "</table>\n",
       "<p>351 rows × 10 columns</p>\n",
       "</div>"
      ],
      "text/plain": [
       "     City_ID            City Country                 Date    Lat     Lng  \\\n",
       "1          1  Ribeira Grande      PT  2020-08-20 03:23:57  38.52  -28.70   \n",
       "3          3  Vestmannaeyjar      IS  2020-08-20 03:23:58  63.44  -20.27   \n",
       "4          4          Kannur      IN  2020-08-20 03:23:59  11.87   75.36   \n",
       "5          5         Husavik      IS  2020-08-20 03:23:59  66.04  -17.34   \n",
       "7          7           Darab      IR  2020-08-20 03:23:59  28.75   54.54   \n",
       "..       ...             ...     ...                  ...    ...     ...   \n",
       "538      538          Tirano      IT  2020-08-20 03:26:28  46.22   10.17   \n",
       "539      539        Buchanan      LR  2020-08-20 03:26:29   5.88  -10.05   \n",
       "542      542         Tecuala      MX  2020-08-20 03:26:29  22.40 -105.46   \n",
       "543      543          Vostok      RU  2020-08-20 03:26:31  46.49  135.88   \n",
       "544      544          Dwarka      IN  2020-08-20 03:26:31  22.24   68.97   \n",
       "\n",
       "     Max Temp  Humidity  Cloudiness  Wind Speed  \n",
       "1       69.75        69          58       16.89  \n",
       "3       48.63        81         100       13.00  \n",
       "4       77.00       100          40        3.51  \n",
       "5       35.60        93           0        3.36  \n",
       "7       88.29        31          70        1.52  \n",
       "..        ...       ...         ...         ...  \n",
       "538     51.80       100          40        3.36  \n",
       "539     75.79        87         100       10.38  \n",
       "542     80.02        81         100        2.95  \n",
       "543     62.22        54         100        7.38  \n",
       "544     83.73        83          64       19.91  \n",
       "\n",
       "[351 rows x 10 columns]"
      ]
     },
     "execution_count": 12,
     "metadata": {},
     "output_type": "execute_result"
    }
   ],
   "source": [
    "city_data_df.loc[(city_data_df[\"Lat\"] >= 0)]"
   ]
  },
  {
   "cell_type": "code",
   "execution_count": 13,
   "metadata": {},
   "outputs": [],
   "source": [
    "# Create Northern and Southern Hemisphere DataFrames.\n",
    "northern_hemi_df = city_data_df.loc[(city_data_df[\"Lat\"] >= 0)]\n",
    "southern_hemi_df = city_data_df.loc[(city_data_df[\"Lat\"] < 0)]"
   ]
  },
  {
   "cell_type": "code",
   "execution_count": 18,
   "metadata": {},
   "outputs": [],
   "source": [
    "# Import linear regression from the SciPy stats module.\n",
    "from scipy.stats import linregress"
   ]
  },
  {
   "cell_type": "code",
   "execution_count": 19,
   "metadata": {},
   "outputs": [],
   "source": [
    "# Create a function to create perform linear regression on the weather data\n",
    "# and plot a regression line and the equation with the data.\n",
    "def plot_linear_regression(x_values, y_values, title, y_label, text_coordinates):\n",
    "\n",
    "    # Run regression on hemisphere weather data.\n",
    "    (slope, intercept, r_value, p_value, std_err) = linregress(x_values, y_values)\n",
    "\n",
    "    # Calculate the regression line \"y values\" from the slope and intercept.\n",
    "    regress_values = x_values * slope + intercept\n",
    "    # Get the equation of the line.\n",
    "    line_eq = \"y = \" + str(round(slope,2)) + \"x + \" + str(round(intercept,2))\n",
    "    # Create a scatter plot and plot the regression line.\n",
    "    plt.scatter(x_values,y_values)\n",
    "    plt.plot(x_values,regress_values,\"r\")\n",
    "    # Annotate the text for the line equation.\n",
    "    plt.annotate(line_eq, text_coordinates, fontsize=15, color=\"red\")\n",
    "    plt.xlabel('Latitude')\n",
    "    plt.ylabel(y_label)\n",
    "    plt.show()"
   ]
  },
  {
   "cell_type": "code",
   "execution_count": 26,
   "metadata": {},
   "outputs": [
    {
     "data": {
      "image/png": "[encoded data removed]",
      "text/plain": [
       "<Figure size 432x288 with 1 Axes>"
      ]
     },
     "metadata": {
      "needs_background": "light"
     },
     "output_type": "display_data"
    }
   ],
   "source": [
    "# Linear regression on the Northern Hemisphere\n",
    "x_values = northern_hemi_df[\"Lat\"]\n",
    "y_values = northern_hemi_df[\"Max Temp\"]\n",
    "# Call the function.\n",
    "plot_linear_regression(x_values, y_values,\n",
    "                       'Linear Regression on the Northern Hemisphere for Maximum Temperature', 'Max Temp',(10,40))"
   ]
  },
  {
   "cell_type": "code",
   "execution_count": 23,
   "metadata": {},
   "outputs": [
    {
     "data": {
      "image/png": "[encoded data removed]",
      "text/plain": [
       "<Figure size 432x288 with 1 Axes>"
      ]
     },
     "metadata": {
      "needs_background": "light"
     },
     "output_type": "display_data"
    }
   ],
   "source": [
    "# Linear regression on the Southern Hemisphere\n",
    "x_values = southern_hemi_df[\"Lat\"]\n",
    "y_values = southern_hemi_df[\"Max Temp\"]\n",
    "# Call the function.\n",
    "plot_linear_regression(x_values, y_values,\n",
    "                       'Linear Regression on the Southern Hemisphere for Maximum Temperature', 'Max Temp',(-50,90))"
   ]
  },
  {
   "cell_type": "code",
   "execution_count": 28,
   "metadata": {},
   "outputs": [
    {
     "data": {
      "image/png": "[encoded data removed]",
      "text/plain": [
       "<Figure size 432x288 with 1 Axes>"
      ]
     },
     "metadata": {
      "needs_background": "light"
     },
     "output_type": "display_data"
    }
   ],
   "source": [
    "# Linear regression on the Northern Hemisphere\n",
    "x_values = northern_hemi_df[\"Lat\"]\n",
    "y_values = northern_hemi_df[\"Humidity\"]\n",
    "# Call the function.\n",
    "plot_linear_regression(x_values, y_values,\n",
    "                       'Linear Regression on the Northern Hemisphere /n for % Humidity', '% Humidity',(40,10))"
   ]
  },
  {
   "cell_type": "code",
   "execution_count": 29,
   "metadata": {},
   "outputs": [
    {
     "data": {
      "image/png": "[encoded data removed]",
      "text/plain": [
       "<Figure size 432x288 with 1 Axes>"
      ]
     },
     "metadata": {
      "needs_background": "light"
     },
     "output_type": "display_data"
    }
   ],
   "source": [
    "# Linear regression on the Southern Hemisphere\n",
    "x_values = southern_hemi_df[\"Lat\"]\n",
    "y_values = southern_hemi_df[\"Humidity\"]\n",
    "# Call the function.\n",
    "plot_linear_regression(x_values, y_values,\n",
    "                       'Linear Regression on the Southern Hemisphere \\n for % Humidity', '% Humidity',(-50,15))"
   ]
  },
  {
   "cell_type": "code",
   "execution_count": 30,
   "metadata": {},
   "outputs": [
    {
     "data": {
      "image/png": "[encoded data removed]",
      "text/plain": [
       "<Figure size 432x288 with 1 Axes>"
      ]
     },
     "metadata": {
      "needs_background": "light"
     },
     "output_type": "display_data"
    }
   ],
   "source": [
    "# Linear regression on the Northern Hemisphere\n",
    "x_values = northern_hemi_df[\"Lat\"]\n",
    "y_values = northern_hemi_df[\"Cloudiness\"]\n",
    "# Call the function.\n",
    "plot_linear_regression(x_values, y_values,\n",
    "                       'Linear Regression on the Northern Hemisphere /n for % Cloudiness', '% Cloudiness',(40,10))"
   ]
  },
  {
   "cell_type": "code",
   "execution_count": 31,
   "metadata": {},
   "outputs": [
    {
     "data": {
      "image/png": "[encoded data removed]",
      "text/plain": [
       "<Figure size 432x288 with 1 Axes>"
      ]
     },
     "metadata": {
      "needs_background": "light"
     },
     "output_type": "display_data"
    }
   ],
   "source": [
    "# Linear regression on the Southern Hemisphere\n",
    "x_values = southern_hemi_df[\"Lat\"]\n",
    "y_values = southern_hemi_df[\"Cloudiness\"]\n",
    "# Call the function.\n",
    "plot_linear_regression(x_values, y_values,\n",
    "                       'Linear Regression on the Southern Hemisphere \\n for % Cloudiness', '% Cloudiness',(-50,60))"
   ]
  },
  {
   "cell_type": "code",
   "execution_count": 33,
   "metadata": {},
   "outputs": [
    {
     "data": {
      "image/png": "[encoded data removed]",
      "text/plain": [
       "<Figure size 432x288 with 1 Axes>"
      ]
     },
     "metadata": {
      "needs_background": "light"
     },
     "output_type": "display_data"
    }
   ],
   "source": [
    "# Linear regression on the Northern Hemisphere\n",
    "x_values = northern_hemi_df[\"Lat\"]\n",
    "y_values = northern_hemi_df[\"Wind Speed\"]\n",
    "# Call the function.\n",
    "plot_linear_regression(x_values, y_values,\n",
    "                       'Linear Regression on the Northern Hemisphere \\n for Wind Speed', 'Wind Speed',(40,35))"
   ]
  },
  {
   "cell_type": "code",
   "execution_count": 34,
   "metadata": {},
   "outputs": [
    {
     "data": {
      "image/png": "[encoded data removed]",
      "text/plain": [
       "<Figure size 432x288 with 1 Axes>"
      ]
     },
     "metadata": {
      "needs_background": "light"
     },
     "output_type": "display_data"
    }
   ],
   "source": [
    "# Linear regression on the Southern Hemisphere\n",
    "x_values = southern_hemi_df[\"Lat\"]\n",
    "y_values = southern_hemi_df[\"Wind Speed\"]\n",
    "# Call the function.\n",
    "plot_linear_regression(x_values, y_values,\n",
    "                       'Linear Regression on the Southern Hemisphere \\n for Wind Speed', 'Wind Speed',(-50,35))"
   ]
  },
  {
   "cell_type": "code",
   "execution_count": null,
   "metadata": {},
   "outputs": [],
   "source": []
  }
 ],
 "metadata": {
  "kernelspec": {
   "display_name": "PythonData",
   "language": "python",
   "name": "pythondata"
  },
  "language_info": {
   "codemirror_mode": {
    "name": "ipython",
    "version": 3
   },
   "file_extension": ".py",
   "mimetype": "text/x-python",
   "name": "python",
   "nbconvert_exporter": "python",
   "pygments_lexer": "ipython3",
   "version": "3.8.3"
  }
 },
 "nbformat": 4,
 "nbformat_minor": 4
}
